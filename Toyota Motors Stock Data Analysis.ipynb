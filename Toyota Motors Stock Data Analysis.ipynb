{
 "cells": [
  {
   "cell_type": "markdown",
   "id": "49aa6b00-3190-4e05-8877-0471ff530f8a",
   "metadata": {},
   "source": [
    "# Toyota Motor Stock Data Analysis"
   ]
  },
  {
   "cell_type": "markdown",
   "id": "74045af3-9a43-4a5f-a040-a1ad7e4ebe35",
   "metadata": {},
   "source": [
    "### Loading The Data"
   ]
  },
  {
   "cell_type": "code",
   "execution_count": 1,
   "id": "7a542f02-798c-422a-ade4-b1b5da14a7a1",
   "metadata": {},
   "outputs": [],
   "source": [
    "import pandas as pd\n",
    "import matplotlib.pyplot as plt"
   ]
  },
  {
   "cell_type": "code",
   "execution_count": 2,
   "id": "ae89ba5f-0218-47cf-9807-b54eef6b5dbc",
   "metadata": {},
   "outputs": [
    {
     "data": {
      "text/html": [
       "<div>\n",
       "<style scoped>\n",
       "    .dataframe tbody tr th:only-of-type {\n",
       "        vertical-align: middle;\n",
       "    }\n",
       "\n",
       "    .dataframe tbody tr th {\n",
       "        vertical-align: top;\n",
       "    }\n",
       "\n",
       "    .dataframe thead th {\n",
       "        text-align: right;\n",
       "    }\n",
       "</style>\n",
       "<table border=\"1\" class=\"dataframe\">\n",
       "  <thead>\n",
       "    <tr style=\"text-align: right;\">\n",
       "      <th></th>\n",
       "      <th>Date</th>\n",
       "      <th>Adj Close</th>\n",
       "      <th>Close</th>\n",
       "      <th>High</th>\n",
       "      <th>Low</th>\n",
       "      <th>Open</th>\n",
       "      <th>Volume</th>\n",
       "    </tr>\n",
       "  </thead>\n",
       "  <tbody>\n",
       "    <tr>\n",
       "      <th>0</th>\n",
       "      <td>1980-03-17</td>\n",
       "      <td>2.296798</td>\n",
       "      <td>3.291227</td>\n",
       "      <td>3.344743</td>\n",
       "      <td>3.291227</td>\n",
       "      <td>0.000000</td>\n",
       "      <td>41109</td>\n",
       "    </tr>\n",
       "    <tr>\n",
       "      <th>1</th>\n",
       "      <td>1980-03-18</td>\n",
       "      <td>2.306134</td>\n",
       "      <td>3.304606</td>\n",
       "      <td>3.358122</td>\n",
       "      <td>3.304606</td>\n",
       "      <td>0.000000</td>\n",
       "      <td>9343</td>\n",
       "    </tr>\n",
       "    <tr>\n",
       "      <th>2</th>\n",
       "      <td>1980-03-19</td>\n",
       "      <td>2.306134</td>\n",
       "      <td>3.304606</td>\n",
       "      <td>3.304606</td>\n",
       "      <td>3.304606</td>\n",
       "      <td>3.304606</td>\n",
       "      <td>0</td>\n",
       "    </tr>\n",
       "    <tr>\n",
       "      <th>3</th>\n",
       "      <td>1980-03-20</td>\n",
       "      <td>2.306134</td>\n",
       "      <td>3.304606</td>\n",
       "      <td>3.358122</td>\n",
       "      <td>3.304606</td>\n",
       "      <td>0.000000</td>\n",
       "      <td>10277</td>\n",
       "    </tr>\n",
       "    <tr>\n",
       "      <th>4</th>\n",
       "      <td>1980-03-21</td>\n",
       "      <td>2.362154</td>\n",
       "      <td>3.384880</td>\n",
       "      <td>3.438396</td>\n",
       "      <td>3.384880</td>\n",
       "      <td>0.000000</td>\n",
       "      <td>8409</td>\n",
       "    </tr>\n",
       "  </tbody>\n",
       "</table>\n",
       "</div>"
      ],
      "text/plain": [
       "         Date  Adj Close     Close      High       Low      Open  Volume\n",
       "0  1980-03-17   2.296798  3.291227  3.344743  3.291227  0.000000   41109\n",
       "1  1980-03-18   2.306134  3.304606  3.358122  3.304606  0.000000    9343\n",
       "2  1980-03-19   2.306134  3.304606  3.304606  3.304606  3.304606       0\n",
       "3  1980-03-20   2.306134  3.304606  3.358122  3.304606  0.000000   10277\n",
       "4  1980-03-21   2.362154  3.384880  3.438396  3.384880  0.000000    8409"
      ]
     },
     "execution_count": 2,
     "metadata": {},
     "output_type": "execute_result"
    }
   ],
   "source": [
    "data=pd.read_csv('Toyota_Data.csv')\n",
    "data.head()"
   ]
  },
  {
   "cell_type": "code",
   "execution_count": 3,
   "id": "c978329d-15ea-4cdf-b0eb-114ee74be8e8",
   "metadata": {},
   "outputs": [
    {
     "name": "stdout",
     "output_type": "stream",
     "text": [
      "<class 'pandas.core.frame.DataFrame'>\n",
      "RangeIndex: 11291 entries, 0 to 11290\n",
      "Data columns (total 7 columns):\n",
      " #   Column     Non-Null Count  Dtype  \n",
      "---  ------     --------------  -----  \n",
      " 0   Date       11291 non-null  object \n",
      " 1   Adj Close  11291 non-null  float64\n",
      " 2   Close      11291 non-null  float64\n",
      " 3   High       11291 non-null  float64\n",
      " 4   Low        11291 non-null  float64\n",
      " 5   Open       11291 non-null  float64\n",
      " 6   Volume     11291 non-null  int64  \n",
      "dtypes: float64(5), int64(1), object(1)\n",
      "memory usage: 617.6+ KB\n"
     ]
    }
   ],
   "source": [
    "data.info()"
   ]
  },
  {
   "cell_type": "markdown",
   "id": "aa155583-6fbd-4153-b540-3b56a67279ca",
   "metadata": {},
   "source": [
    "### Changing Types"
   ]
  },
  {
   "cell_type": "code",
   "execution_count": 4,
   "id": "e473d5eb-029f-4ba2-9a78-0f8b7de61e01",
   "metadata": {},
   "outputs": [
    {
     "name": "stdout",
     "output_type": "stream",
     "text": [
      "<class 'pandas.core.frame.DataFrame'>\n",
      "RangeIndex: 11291 entries, 0 to 11290\n",
      "Data columns (total 7 columns):\n",
      " #   Column     Non-Null Count  Dtype         \n",
      "---  ------     --------------  -----         \n",
      " 0   Date       11291 non-null  datetime64[ns]\n",
      " 1   Adj Close  11291 non-null  float64       \n",
      " 2   Close      11291 non-null  float64       \n",
      " 3   High       11291 non-null  float64       \n",
      " 4   Low        11291 non-null  float64       \n",
      " 5   Open       11291 non-null  float64       \n",
      " 6   Volume     11291 non-null  int64         \n",
      "dtypes: datetime64[ns](1), float64(5), int64(1)\n",
      "memory usage: 617.6 KB\n"
     ]
    }
   ],
   "source": [
    "data['Date']=pd.to_datetime(data['Date'])\n",
    "data.info()"
   ]
  },
  {
   "cell_type": "code",
   "execution_count": 5,
   "id": "328515d9-70e1-42c9-b3bd-715bbea8fec8",
   "metadata": {},
   "outputs": [],
   "source": [
    "data.drop_duplicates(inplace=True)"
   ]
  },
  {
   "cell_type": "markdown",
   "id": "ed8b63b7-095f-40d0-ab7e-bb0e3bf433ac",
   "metadata": {},
   "source": [
    "## Questions"
   ]
  },
  {
   "cell_type": "markdown",
   "id": "d240eb1b-4805-4061-9dee-99a17ae7020e",
   "metadata": {},
   "source": [
    "### What is the time range of the dataset (start and end dates)?"
   ]
  },
  {
   "cell_type": "code",
   "execution_count": 6,
   "id": "ee0dd6cf-7f2d-48f9-a434-73e3c966a333",
   "metadata": {},
   "outputs": [
    {
     "name": "stdout",
     "output_type": "stream",
     "text": [
      "The Start Date is 1980-03-17 00:00:00 and end date is 2024-12-27 00:00:00\n"
     ]
    }
   ],
   "source": [
    "min_date=data['Date'].min()\n",
    "max_date=data['Date'].max()\n",
    "print(f\"The Start Date is {min_date} and end date is {max_date}\")"
   ]
  },
  {
   "cell_type": "markdown",
   "id": "092db6f4-d871-418d-b408-30497b1bb83d",
   "metadata": {},
   "source": [
    "### How many trading days are included in the dataset?"
   ]
  },
  {
   "cell_type": "code",
   "execution_count": 7,
   "id": "f5d8d4a5-f537-4a09-9f0d-fbc82a4d7b50",
   "metadata": {},
   "outputs": [
    {
     "data": {
      "text/plain": [
       "11291"
      ]
     },
     "execution_count": 7,
     "metadata": {},
     "output_type": "execute_result"
    }
   ],
   "source": [
    "trading_days=data['Date'].nunique()\n",
    "trading_days"
   ]
  },
  {
   "cell_type": "markdown",
   "id": "a896b969-4d79-4cc3-93f0-f660d4fcf180",
   "metadata": {},
   "source": [
    "### What are the highest and lowest closing prices (Close) in the dataset?"
   ]
  },
  {
   "cell_type": "code",
   "execution_count": 8,
   "id": "e8ccdad4-6f3b-449c-9873-b60aeb04e811",
   "metadata": {},
   "outputs": [
    {
     "name": "stdout",
     "output_type": "stream",
     "text": [
      "The  lowest close is 3.237710953 and the Highest close is 254.7700043\n"
     ]
    }
   ],
   "source": [
    "min_close=data['Close'].min()\n",
    "max_close=data['Close'].max()\n",
    "print(f\"The  lowest close is {min_close} and the Highest close is {max_close}\")"
   ]
  },
  {
   "cell_type": "markdown",
   "id": "0b65adb4-f99e-4d30-a1a4-cd478e8e6437",
   "metadata": {},
   "source": [
    "### What is the average daily trading volume?"
   ]
  },
  {
   "cell_type": "code",
   "execution_count": 9,
   "id": "a8b7bcf2-0656-4392-94e3-26f6427744e4",
   "metadata": {},
   "outputs": [
    {
     "data": {
      "text/plain": [
       "214660.44265344078"
      ]
     },
     "execution_count": 9,
     "metadata": {},
     "output_type": "execute_result"
    }
   ],
   "source": [
    "avg_daily=data['Volume'].mean()\n",
    "avg_daily"
   ]
  },
  {
   "cell_type": "markdown",
   "id": "96339691-3f7d-4188-9b94-c0d530c790d2",
   "metadata": {},
   "source": [
    "### Find all trading days where the stock price closed higher than $100."
   ]
  },
  {
   "cell_type": "code",
   "execution_count": 10,
   "id": "793afcfd-bdfe-42df-b01f-8b0d344c870c",
   "metadata": {},
   "outputs": [
    {
     "data": {
      "text/html": [
       "<div>\n",
       "<style scoped>\n",
       "    .dataframe tbody tr th:only-of-type {\n",
       "        vertical-align: middle;\n",
       "    }\n",
       "\n",
       "    .dataframe tbody tr th {\n",
       "        vertical-align: top;\n",
       "    }\n",
       "\n",
       "    .dataframe thead th {\n",
       "        text-align: right;\n",
       "    }\n",
       "</style>\n",
       "<table border=\"1\" class=\"dataframe\">\n",
       "  <thead>\n",
       "    <tr style=\"text-align: right;\">\n",
       "      <th></th>\n",
       "      <th>Date</th>\n",
       "      <th>Adj Close</th>\n",
       "      <th>Close</th>\n",
       "      <th>High</th>\n",
       "      <th>Low</th>\n",
       "      <th>Open</th>\n",
       "      <th>Volume</th>\n",
       "    </tr>\n",
       "  </thead>\n",
       "  <tbody>\n",
       "    <tr>\n",
       "      <th>5064</th>\n",
       "      <td>2000-03-29</td>\n",
       "      <td>75.486542</td>\n",
       "      <td>101.562500</td>\n",
       "      <td>101.750000</td>\n",
       "      <td>100.625000</td>\n",
       "      <td>100.625000</td>\n",
       "      <td>22100</td>\n",
       "    </tr>\n",
       "    <tr>\n",
       "      <th>5066</th>\n",
       "      <td>2000-03-31</td>\n",
       "      <td>77.298210</td>\n",
       "      <td>104.000000</td>\n",
       "      <td>104.000000</td>\n",
       "      <td>101.875000</td>\n",
       "      <td>103.000000</td>\n",
       "      <td>21300</td>\n",
       "    </tr>\n",
       "    <tr>\n",
       "      <th>5067</th>\n",
       "      <td>2000-04-03</td>\n",
       "      <td>77.855667</td>\n",
       "      <td>104.750000</td>\n",
       "      <td>105.500000</td>\n",
       "      <td>104.062500</td>\n",
       "      <td>104.750000</td>\n",
       "      <td>25300</td>\n",
       "    </tr>\n",
       "    <tr>\n",
       "      <th>5068</th>\n",
       "      <td>2000-04-04</td>\n",
       "      <td>77.391136</td>\n",
       "      <td>104.125000</td>\n",
       "      <td>105.312500</td>\n",
       "      <td>102.625000</td>\n",
       "      <td>104.750000</td>\n",
       "      <td>27500</td>\n",
       "    </tr>\n",
       "    <tr>\n",
       "      <th>5069</th>\n",
       "      <td>2000-04-05</td>\n",
       "      <td>76.926575</td>\n",
       "      <td>103.500000</td>\n",
       "      <td>104.000000</td>\n",
       "      <td>102.750000</td>\n",
       "      <td>103.000000</td>\n",
       "      <td>34500</td>\n",
       "    </tr>\n",
       "    <tr>\n",
       "      <th>...</th>\n",
       "      <td>...</td>\n",
       "      <td>...</td>\n",
       "      <td>...</td>\n",
       "      <td>...</td>\n",
       "      <td>...</td>\n",
       "      <td>...</td>\n",
       "      <td>...</td>\n",
       "    </tr>\n",
       "    <tr>\n",
       "      <th>11286</th>\n",
       "      <td>2024-12-20</td>\n",
       "      <td>178.169998</td>\n",
       "      <td>178.169998</td>\n",
       "      <td>179.919998</td>\n",
       "      <td>175.839996</td>\n",
       "      <td>175.839996</td>\n",
       "      <td>425700</td>\n",
       "    </tr>\n",
       "    <tr>\n",
       "      <th>11287</th>\n",
       "      <td>2024-12-23</td>\n",
       "      <td>180.449997</td>\n",
       "      <td>180.449997</td>\n",
       "      <td>180.619995</td>\n",
       "      <td>177.970001</td>\n",
       "      <td>179.119995</td>\n",
       "      <td>422700</td>\n",
       "    </tr>\n",
       "    <tr>\n",
       "      <th>11288</th>\n",
       "      <td>2024-12-24</td>\n",
       "      <td>181.429993</td>\n",
       "      <td>181.429993</td>\n",
       "      <td>181.720001</td>\n",
       "      <td>180.830002</td>\n",
       "      <td>181.000000</td>\n",
       "      <td>168600</td>\n",
       "    </tr>\n",
       "    <tr>\n",
       "      <th>11289</th>\n",
       "      <td>2024-12-26</td>\n",
       "      <td>197.360001</td>\n",
       "      <td>197.360001</td>\n",
       "      <td>198.000000</td>\n",
       "      <td>193.130005</td>\n",
       "      <td>195.970001</td>\n",
       "      <td>1281200</td>\n",
       "    </tr>\n",
       "    <tr>\n",
       "      <th>11290</th>\n",
       "      <td>2024-12-27</td>\n",
       "      <td>199.520004</td>\n",
       "      <td>199.520004</td>\n",
       "      <td>201.000000</td>\n",
       "      <td>198.179993</td>\n",
       "      <td>200.360001</td>\n",
       "      <td>779500</td>\n",
       "    </tr>\n",
       "  </tbody>\n",
       "</table>\n",
       "<p>3599 rows × 7 columns</p>\n",
       "</div>"
      ],
      "text/plain": [
       "            Date   Adj Close       Close        High         Low        Open  \\\n",
       "5064  2000-03-29   75.486542  101.562500  101.750000  100.625000  100.625000   \n",
       "5066  2000-03-31   77.298210  104.000000  104.000000  101.875000  103.000000   \n",
       "5067  2000-04-03   77.855667  104.750000  105.500000  104.062500  104.750000   \n",
       "5068  2000-04-04   77.391136  104.125000  105.312500  102.625000  104.750000   \n",
       "5069  2000-04-05   76.926575  103.500000  104.000000  102.750000  103.000000   \n",
       "...          ...         ...         ...         ...         ...         ...   \n",
       "11286 2024-12-20  178.169998  178.169998  179.919998  175.839996  175.839996   \n",
       "11287 2024-12-23  180.449997  180.449997  180.619995  177.970001  179.119995   \n",
       "11288 2024-12-24  181.429993  181.429993  181.720001  180.830002  181.000000   \n",
       "11289 2024-12-26  197.360001  197.360001  198.000000  193.130005  195.970001   \n",
       "11290 2024-12-27  199.520004  199.520004  201.000000  198.179993  200.360001   \n",
       "\n",
       "        Volume  \n",
       "5064     22100  \n",
       "5066     21300  \n",
       "5067     25300  \n",
       "5068     27500  \n",
       "5069     34500  \n",
       "...        ...  \n",
       "11286   425700  \n",
       "11287   422700  \n",
       "11288   168600  \n",
       "11289  1281200  \n",
       "11290   779500  \n",
       "\n",
       "[3599 rows x 7 columns]"
      ]
     },
     "execution_count": 10,
     "metadata": {},
     "output_type": "execute_result"
    }
   ],
   "source": [
    "closed_higher_than_100=data[data['Close']>100]\n",
    "closed_higher_than_100"
   ]
  },
  {
   "cell_type": "markdown",
   "id": "3d32a063-9f9c-452a-ac63-5cf473614f9e",
   "metadata": {},
   "source": [
    "### List the top 10 trading days with the highest trading volumes."
   ]
  },
  {
   "cell_type": "code",
   "execution_count": 11,
   "id": "bf93056a-afab-415a-a5c0-ff5744a21d30",
   "metadata": {},
   "outputs": [
    {
     "data": {
      "text/html": [
       "<div>\n",
       "<style scoped>\n",
       "    .dataframe tbody tr th:only-of-type {\n",
       "        vertical-align: middle;\n",
       "    }\n",
       "\n",
       "    .dataframe tbody tr th {\n",
       "        vertical-align: top;\n",
       "    }\n",
       "\n",
       "    .dataframe thead th {\n",
       "        text-align: right;\n",
       "    }\n",
       "</style>\n",
       "<table border=\"1\" class=\"dataframe\">\n",
       "  <thead>\n",
       "    <tr style=\"text-align: right;\">\n",
       "      <th></th>\n",
       "      <th>Date</th>\n",
       "      <th>Adj Close</th>\n",
       "      <th>Close</th>\n",
       "      <th>High</th>\n",
       "      <th>Low</th>\n",
       "      <th>Open</th>\n",
       "      <th>Volume</th>\n",
       "    </tr>\n",
       "  </thead>\n",
       "  <tbody>\n",
       "    <tr>\n",
       "      <th>7540</th>\n",
       "      <td>2010-02-03</td>\n",
       "      <td>62.463539</td>\n",
       "      <td>73.489998</td>\n",
       "      <td>76.239998</td>\n",
       "      <td>71.900002</td>\n",
       "      <td>75.699997</td>\n",
       "      <td>18582700</td>\n",
       "    </tr>\n",
       "    <tr>\n",
       "      <th>7541</th>\n",
       "      <td>2010-02-04</td>\n",
       "      <td>61.010101</td>\n",
       "      <td>71.779999</td>\n",
       "      <td>73.320000</td>\n",
       "      <td>71.000000</td>\n",
       "      <td>72.440002</td>\n",
       "      <td>11087400</td>\n",
       "    </tr>\n",
       "    <tr>\n",
       "      <th>7542</th>\n",
       "      <td>2010-02-05</td>\n",
       "      <td>63.500496</td>\n",
       "      <td>74.709999</td>\n",
       "      <td>74.809998</td>\n",
       "      <td>72.080002</td>\n",
       "      <td>73.089996</td>\n",
       "      <td>7523700</td>\n",
       "    </tr>\n",
       "    <tr>\n",
       "      <th>7554</th>\n",
       "      <td>2010-02-24</td>\n",
       "      <td>63.177513</td>\n",
       "      <td>74.330002</td>\n",
       "      <td>74.580002</td>\n",
       "      <td>72.309998</td>\n",
       "      <td>72.419998</td>\n",
       "      <td>5973500</td>\n",
       "    </tr>\n",
       "    <tr>\n",
       "      <th>7820</th>\n",
       "      <td>2011-03-15</td>\n",
       "      <td>70.361198</td>\n",
       "      <td>81.389999</td>\n",
       "      <td>82.059998</td>\n",
       "      <td>77.360001</td>\n",
       "      <td>77.500000</td>\n",
       "      <td>5117600</td>\n",
       "    </tr>\n",
       "    <tr>\n",
       "      <th>7544</th>\n",
       "      <td>2010-02-09</td>\n",
       "      <td>63.407001</td>\n",
       "      <td>74.599998</td>\n",
       "      <td>75.540001</td>\n",
       "      <td>74.150002</td>\n",
       "      <td>75.000000</td>\n",
       "      <td>4545800</td>\n",
       "    </tr>\n",
       "    <tr>\n",
       "      <th>7549</th>\n",
       "      <td>2010-02-17</td>\n",
       "      <td>63.024525</td>\n",
       "      <td>74.150002</td>\n",
       "      <td>74.989998</td>\n",
       "      <td>72.750000</td>\n",
       "      <td>74.989998</td>\n",
       "      <td>4396900</td>\n",
       "    </tr>\n",
       "    <tr>\n",
       "      <th>7536</th>\n",
       "      <td>2010-01-28</td>\n",
       "      <td>66.016380</td>\n",
       "      <td>77.669998</td>\n",
       "      <td>79.699997</td>\n",
       "      <td>76.629997</td>\n",
       "      <td>78.160004</td>\n",
       "      <td>4039700</td>\n",
       "    </tr>\n",
       "    <tr>\n",
       "      <th>7553</th>\n",
       "      <td>2010-02-23</td>\n",
       "      <td>60.814621</td>\n",
       "      <td>71.550003</td>\n",
       "      <td>72.779999</td>\n",
       "      <td>71.239998</td>\n",
       "      <td>72.690002</td>\n",
       "      <td>3823700</td>\n",
       "    </tr>\n",
       "    <tr>\n",
       "      <th>7543</th>\n",
       "      <td>2010-02-08</td>\n",
       "      <td>61.919559</td>\n",
       "      <td>72.849998</td>\n",
       "      <td>74.199997</td>\n",
       "      <td>72.410004</td>\n",
       "      <td>73.930000</td>\n",
       "      <td>3695200</td>\n",
       "    </tr>\n",
       "  </tbody>\n",
       "</table>\n",
       "</div>"
      ],
      "text/plain": [
       "           Date  Adj Close      Close       High        Low       Open  \\\n",
       "7540 2010-02-03  62.463539  73.489998  76.239998  71.900002  75.699997   \n",
       "7541 2010-02-04  61.010101  71.779999  73.320000  71.000000  72.440002   \n",
       "7542 2010-02-05  63.500496  74.709999  74.809998  72.080002  73.089996   \n",
       "7554 2010-02-24  63.177513  74.330002  74.580002  72.309998  72.419998   \n",
       "7820 2011-03-15  70.361198  81.389999  82.059998  77.360001  77.500000   \n",
       "7544 2010-02-09  63.407001  74.599998  75.540001  74.150002  75.000000   \n",
       "7549 2010-02-17  63.024525  74.150002  74.989998  72.750000  74.989998   \n",
       "7536 2010-01-28  66.016380  77.669998  79.699997  76.629997  78.160004   \n",
       "7553 2010-02-23  60.814621  71.550003  72.779999  71.239998  72.690002   \n",
       "7543 2010-02-08  61.919559  72.849998  74.199997  72.410004  73.930000   \n",
       "\n",
       "        Volume  \n",
       "7540  18582700  \n",
       "7541  11087400  \n",
       "7542   7523700  \n",
       "7554   5973500  \n",
       "7820   5117600  \n",
       "7544   4545800  \n",
       "7549   4396900  \n",
       "7536   4039700  \n",
       "7553   3823700  \n",
       "7543   3695200  "
      ]
     },
     "execution_count": 11,
     "metadata": {},
     "output_type": "execute_result"
    }
   ],
   "source": [
    "highest_trading_volumes_10=data.sort_values(by='Volume',ascending=False)\n",
    "highest_trading_volumes_10.head(10)\n"
   ]
  },
  {
   "cell_type": "markdown",
   "id": "36d980fd-7b0d-42a2-a1c4-1d8ed79e7492",
   "metadata": {},
   "source": [
    "### Compare the average Close price before and after a specific date."
   ]
  },
  {
   "cell_type": "code",
   "execution_count": 12,
   "id": "758273d9-d94d-4b03-b1fc-a0f11915b5fc",
   "metadata": {},
   "outputs": [
    {
     "data": {
      "text/plain": [
       "Timestamp('2001-04-16 00:00:00')"
      ]
     },
     "execution_count": 12,
     "metadata": {},
     "output_type": "execute_result"
    }
   ],
   "source": [
    "median =data['Close'].median()\n",
    "median_date = data[data['Close'] == median]['Date'].iloc[0]\n",
    "median_date"
   ]
  },
  {
   "cell_type": "code",
   "execution_count": 13,
   "id": "9cadfe36-724f-4df5-ba2d-30d9fdf9c664",
   "metadata": {},
   "outputs": [
    {
     "name": "stdout",
     "output_type": "stream",
     "text": [
      "Average Close Price Before 2001-04-16 00:00:00: 29.861274039507226\n",
      "Average Close Price After 2001-04-16 00:00:00: 109.74737421655432\n"
     ]
    }
   ],
   "source": [
    "avg_before = data[data['Date'] < median_date]['Close'].mean()\n",
    "avg_after = data[data['Date'] >= median_date]['Close'].mean()\n",
    "\n",
    "print(f\"Average Close Price Before {median_date}: {avg_before}\")\n",
    "print(f\"Average Close Price After {median_date}: {avg_after}\")"
   ]
  },
  {
   "cell_type": "markdown",
   "id": "233c898a-da44-4ed8-962d-97e22f78017e",
   "metadata": {},
   "source": [
    "### On how many days was the High price equal to the Close price?"
   ]
  },
  {
   "cell_type": "code",
   "execution_count": 14,
   "id": "6a33a046-c42b-43e3-9939-a662e14afc9e",
   "metadata": {},
   "outputs": [
    {
     "data": {
      "text/plain": [
       "1006"
      ]
     },
     "execution_count": 14,
     "metadata": {},
     "output_type": "execute_result"
    }
   ],
   "source": [
    "how=data[data['High']==data['Close']]['Date'].count()\n",
    "how"
   ]
  },
  {
   "cell_type": "markdown",
   "id": "617ecf17-21ff-43fa-b780-66c804a3ae51",
   "metadata": {},
   "source": [
    "### What is the maximum Adj Close value for each year?"
   ]
  },
  {
   "cell_type": "code",
   "execution_count": 25,
   "id": "0c0ddc6b-2916-45d6-8674-bb455cc994cc",
   "metadata": {},
   "outputs": [
    {
     "data": {
      "text/html": [
       "<div>\n",
       "<style scoped>\n",
       "    .dataframe tbody tr th:only-of-type {\n",
       "        vertical-align: middle;\n",
       "    }\n",
       "\n",
       "    .dataframe tbody tr th {\n",
       "        vertical-align: top;\n",
       "    }\n",
       "\n",
       "    .dataframe thead th {\n",
       "        text-align: right;\n",
       "    }\n",
       "</style>\n",
       "<table border=\"1\" class=\"dataframe\">\n",
       "  <thead>\n",
       "    <tr style=\"text-align: right;\">\n",
       "      <th></th>\n",
       "      <th>Year</th>\n",
       "      <th>Adj Close</th>\n",
       "    </tr>\n",
       "  </thead>\n",
       "  <tbody>\n",
       "    <tr>\n",
       "      <th>0</th>\n",
       "      <td>1980</td>\n",
       "      <td>3.313550</td>\n",
       "    </tr>\n",
       "    <tr>\n",
       "      <th>1</th>\n",
       "      <td>1981</td>\n",
       "      <td>5.470300</td>\n",
       "    </tr>\n",
       "    <tr>\n",
       "      <th>2</th>\n",
       "      <td>1982</td>\n",
       "      <td>4.507606</td>\n",
       "    </tr>\n",
       "    <tr>\n",
       "      <th>3</th>\n",
       "      <td>1983</td>\n",
       "      <td>6.049682</td>\n",
       "    </tr>\n",
       "    <tr>\n",
       "      <th>4</th>\n",
       "      <td>1984</td>\n",
       "      <td>6.108989</td>\n",
       "    </tr>\n",
       "  </tbody>\n",
       "</table>\n",
       "</div>"
      ],
      "text/plain": [
       "   Year  Adj Close\n",
       "0  1980   3.313550\n",
       "1  1981   5.470300\n",
       "2  1982   4.507606\n",
       "3  1983   6.049682\n",
       "4  1984   6.108989"
      ]
     },
     "execution_count": 25,
     "metadata": {},
     "output_type": "execute_result"
    }
   ],
   "source": [
    "data['Year']=data['Date'].dt.year\n",
    "result=data.groupby('Year')['Adj Close'].max().reset_index()\n",
    "result.head()"
   ]
  },
  {
   "cell_type": "code",
   "execution_count": 28,
   "id": "82978462-9883-4dba-aba3-32c94680edaf",
   "metadata": {},
   "outputs": [
    {
     "data": {
      "image/png": "[encoded data removed]",
      "text/plain": [
       "<Figure size 1200x600 with 1 Axes>"
      ]
     },
     "metadata": {},
     "output_type": "display_data"
    }
   ],
   "source": [
    "plt.figure(figsize=(12, 6))\n",
    "plt.bar(result['Year'], result['Adj Close'], color='skyblue')\n",
    "plt.xlabel('Year')\n",
    "plt.ylabel('Max Adjusted Close Price')\n",
    "plt.title('Max Adjusted Close Price by Year')\n",
    "plt.xticks(result['Year'],rotation=90)  # Rotate x-axis labels for better readability\n",
    "plt.show()"
   ]
  },
  {
   "cell_type": "markdown",
   "id": "b9d515c0-8ad7-4bba-95fc-7953b93a758a",
   "metadata": {},
   "source": [
    "### How does the average trading volume vary by month?"
   ]
  },
  {
   "cell_type": "code",
   "execution_count": 27,
   "id": "0e4083dd-1d5b-4be2-8dee-95b5be840dbd",
   "metadata": {},
   "outputs": [
    {
     "data": {
      "text/html": [
       "<div>\n",
       "<style scoped>\n",
       "    .dataframe tbody tr th:only-of-type {\n",
       "        vertical-align: middle;\n",
       "    }\n",
       "\n",
       "    .dataframe tbody tr th {\n",
       "        vertical-align: top;\n",
       "    }\n",
       "\n",
       "    .dataframe thead th {\n",
       "        text-align: right;\n",
       "    }\n",
       "</style>\n",
       "<table border=\"1\" class=\"dataframe\">\n",
       "  <thead>\n",
       "    <tr style=\"text-align: right;\">\n",
       "      <th></th>\n",
       "      <th>Month</th>\n",
       "      <th>Volume</th>\n",
       "    </tr>\n",
       "  </thead>\n",
       "  <tbody>\n",
       "    <tr>\n",
       "      <th>0</th>\n",
       "      <td>1</td>\n",
       "      <td>218255.814774</td>\n",
       "    </tr>\n",
       "    <tr>\n",
       "      <th>1</th>\n",
       "      <td>2</td>\n",
       "      <td>319231.716825</td>\n",
       "    </tr>\n",
       "    <tr>\n",
       "      <th>2</th>\n",
       "      <td>3</td>\n",
       "      <td>251720.495385</td>\n",
       "    </tr>\n",
       "    <tr>\n",
       "      <th>3</th>\n",
       "      <td>4</td>\n",
       "      <td>243633.252688</td>\n",
       "    </tr>\n",
       "    <tr>\n",
       "      <th>4</th>\n",
       "      <td>5</td>\n",
       "      <td>218430.993691</td>\n",
       "    </tr>\n",
       "    <tr>\n",
       "      <th>5</th>\n",
       "      <td>6</td>\n",
       "      <td>199052.454167</td>\n",
       "    </tr>\n",
       "    <tr>\n",
       "      <th>6</th>\n",
       "      <td>7</td>\n",
       "      <td>171402.912815</td>\n",
       "    </tr>\n",
       "    <tr>\n",
       "      <th>7</th>\n",
       "      <td>8</td>\n",
       "      <td>189592.067269</td>\n",
       "    </tr>\n",
       "    <tr>\n",
       "      <th>8</th>\n",
       "      <td>9</td>\n",
       "      <td>190115.222951</td>\n",
       "    </tr>\n",
       "    <tr>\n",
       "      <th>9</th>\n",
       "      <td>10</td>\n",
       "      <td>194545.066398</td>\n",
       "    </tr>\n",
       "    <tr>\n",
       "      <th>10</th>\n",
       "      <td>11</td>\n",
       "      <td>205885.051198</td>\n",
       "    </tr>\n",
       "    <tr>\n",
       "      <th>11</th>\n",
       "      <td>12</td>\n",
       "      <td>186693.205479</td>\n",
       "    </tr>\n",
       "  </tbody>\n",
       "</table>\n",
       "</div>"
      ],
      "text/plain": [
       "    Month         Volume\n",
       "0       1  218255.814774\n",
       "1       2  319231.716825\n",
       "2       3  251720.495385\n",
       "3       4  243633.252688\n",
       "4       5  218430.993691\n",
       "5       6  199052.454167\n",
       "6       7  171402.912815\n",
       "7       8  189592.067269\n",
       "8       9  190115.222951\n",
       "9      10  194545.066398\n",
       "10     11  205885.051198\n",
       "11     12  186693.205479"
      ]
     },
     "execution_count": 27,
     "metadata": {},
     "output_type": "execute_result"
    }
   ],
   "source": [
    "data['Month']=data['Date'].dt.month\n",
    "res=data.groupby('Month')['Volume'].mean().reset_index()\n",
    "res\n"
   ]
  },
  {
   "cell_type": "code",
   "execution_count": 30,
   "id": "a51179fc-3d9f-45e7-bbfc-274573866012",
   "metadata": {},
   "outputs": [
    {
     "data": {
      "image/png": "[encoded data removed]",
      "text/plain": [
       "<Figure size 640x480 with 1 Axes>"
      ]
     },
     "metadata": {},
     "output_type": "display_data"
    }
   ],
   "source": [
    "\n",
    "plt.bar(res['Month'], res['Volume'], color='skyblue')\n",
    "plt.xlabel('Month')\n",
    "plt.ylabel('Average Volume')\n",
    "plt.title('Average Volume by Month')\n",
    "plt.xticks(res['Month'],rotation=25)  # Rotate x-axis labels for better readability\n",
    "plt.show()"
   ]
  },
  {
   "cell_type": "markdown",
   "id": "496c1c7d-540c-4d22-a5e2-0b4ab9e3acde",
   "metadata": {},
   "source": [
    "### Plot the trend of the Adj Close price over time."
   ]
  },
  {
   "cell_type": "code",
   "execution_count": 32,
   "id": "46fdcb41-51bf-47e1-9c7c-26c68f0d2781",
   "metadata": {},
   "outputs": [
    {
     "data": {
      "text/html": [
       "<div>\n",
       "<style scoped>\n",
       "    .dataframe tbody tr th:only-of-type {\n",
       "        vertical-align: middle;\n",
       "    }\n",
       "\n",
       "    .dataframe tbody tr th {\n",
       "        vertical-align: top;\n",
       "    }\n",
       "\n",
       "    .dataframe thead th {\n",
       "        text-align: right;\n",
       "    }\n",
       "</style>\n",
       "<table border=\"1\" class=\"dataframe\">\n",
       "  <thead>\n",
       "    <tr style=\"text-align: right;\">\n",
       "      <th></th>\n",
       "      <th>Year</th>\n",
       "      <th>Adj Close</th>\n",
       "    </tr>\n",
       "  </thead>\n",
       "  <tbody>\n",
       "    <tr>\n",
       "      <th>0</th>\n",
       "      <td>1980</td>\n",
       "      <td>546.291436</td>\n",
       "    </tr>\n",
       "    <tr>\n",
       "      <th>1</th>\n",
       "      <td>1981</td>\n",
       "      <td>975.749529</td>\n",
       "    </tr>\n",
       "    <tr>\n",
       "      <th>2</th>\n",
       "      <td>1982</td>\n",
       "      <td>866.322958</td>\n",
       "    </tr>\n",
       "    <tr>\n",
       "      <th>3</th>\n",
       "      <td>1983</td>\n",
       "      <td>1178.976036</td>\n",
       "    </tr>\n",
       "    <tr>\n",
       "      <th>4</th>\n",
       "      <td>1984</td>\n",
       "      <td>1371.480469</td>\n",
       "    </tr>\n",
       "  </tbody>\n",
       "</table>\n",
       "</div>"
      ],
      "text/plain": [
       "   Year    Adj Close\n",
       "0  1980   546.291436\n",
       "1  1981   975.749529\n",
       "2  1982   866.322958\n",
       "3  1983  1178.976036\n",
       "4  1984  1371.480469"
      ]
     },
     "execution_count": 32,
     "metadata": {},
     "output_type": "execute_result"
    }
   ],
   "source": [
    "\n",
    "trend=data.groupby('Year')['Adj Close'].sum().reset_index()\n",
    "trend.head()"
   ]
  },
  {
   "cell_type": "code",
   "execution_count": 35,
   "id": "666d1a3f-c2fa-4078-8e51-22cbcebea9ab",
   "metadata": {},
   "outputs": [
    {
     "data": {
      "image/png": "[encoded data removed]",
      "text/plain": [
       "<Figure size 1200x600 with 1 Axes>"
      ]
     },
     "metadata": {},
     "output_type": "display_data"
    }
   ],
   "source": [
    "plt.figure(figsize=(12, 6))\n",
    "plt.plot(trend['Year'], trend['Adj Close'], color='skyblue')\n",
    "plt.xlabel('Year')\n",
    "plt.ylabel('Adj Close')\n",
    "plt.title('Trend')\n",
    "plt.xticks(trend['Year'],rotation=90)  # Rotate x-axis labels for better readability\n",
    "plt.show()"
   ]
  },
  {
   "cell_type": "markdown",
   "id": "738b3c25-4f18-47c5-bf05-b4ee708fbc0a",
   "metadata": {},
   "source": [
    "### Identify the day with the largest difference between the High and Low prices."
   ]
  },
  {
   "cell_type": "code",
   "execution_count": 43,
   "id": "2ce9cd8a-055c-4a74-baca-4ba5ca200613",
   "metadata": {},
   "outputs": [
    {
     "name": "stdout",
     "output_type": "stream",
     "text": [
      "The date with the maximum difference between High and Low is: 2024-08-05 00:00:00\n"
     ]
    }
   ],
   "source": [
    "max_diff = 0\n",
    "date_of_max_diff = None\n",
    "\n",
    "for _, row in data.iterrows():\n",
    "    c = row['High'] - row['Low']\n",
    "    if c > max_diff:\n",
    "        max_diff = c\n",
    "        date_of_max_diff = row['Date']\n",
    "\n",
    "print(f\"The date with the maximum difference between High and Low is: {date_of_max_diff}\")\n",
    "\n"
   ]
  },
  {
   "cell_type": "markdown",
   "id": "4bf4377d-653f-49f1-b093-96cbb18a7a0a",
   "metadata": {},
   "source": [
    "### Calculate the daily percentage change in Close prices."
   ]
  },
  {
   "cell_type": "code",
   "execution_count": 44,
   "id": "50aa0b15-86a3-448a-bd89-2c17810242ed",
   "metadata": {},
   "outputs": [
    {
     "name": "stdout",
     "output_type": "stream",
     "text": [
      "        Date     Close  Daily_Percent_Change\n",
      "0 1980-03-17  3.291227                   NaN\n",
      "1 1980-03-18  3.304606              0.406501\n",
      "2 1980-03-19  3.304606              0.000000\n",
      "3 1980-03-20  3.304606              0.000000\n",
      "4 1980-03-21  3.384880              2.429158\n"
     ]
    }
   ],
   "source": [
    "# Calculate the daily percentage change in Close prices\n",
    "data['Daily_Percent_Change'] = data['Close'].pct_change() * 100\n",
    "\n",
    "# Display the first few rows to verify\n",
    "print(data[['Date', 'Close', 'Daily_Percent_Change']].head())\n"
   ]
  },
  {
   "cell_type": "markdown",
   "id": "cd7793ea-3c21-45c1-bdd8-b817366a3b52",
   "metadata": {},
   "source": [
    "### Find the cumulative trading volume over the entire dataset."
   ]
  },
  {
   "cell_type": "code",
   "execution_count": 45,
   "id": "ee8e1979-239a-4b92-8999-edc08358be26",
   "metadata": {},
   "outputs": [
    {
     "name": "stdout",
     "output_type": "stream",
     "text": [
      "The cumulative trading volume over the entire dataset is: 2423731058\n"
     ]
    }
   ],
   "source": [
    "# Calculate the cumulative trading volume\n",
    "data['Cumulative_Volume'] = data['Volume'].cumsum()\n",
    "\n",
    "# Display the cumulative trading volume\n",
    "cumulative_volume = data['Cumulative_Volume'].iloc[-1]\n",
    "print(f\"The cumulative trading volume over the entire dataset is: {cumulative_volume}\")\n"
   ]
  },
  {
   "cell_type": "code",
   "execution_count": null,
   "id": "179d16e0-c367-4130-ae36-5c48ed603e0a",
   "metadata": {},
   "outputs": [],
   "source": []
  }
 ],
 "metadata": {
  "kernelspec": {
   "display_name": "Python 3 (ipykernel)",
   "language": "python",
   "name": "python3"
  },
  "language_info": {
   "codemirror_mode": {
    "name": "ipython",
    "version": 3
   },
   "file_extension": ".py",
   "mimetype": "text/x-python",
   "name": "python",
   "nbconvert_exporter": "python",
   "pygments_lexer": "ipython3",
   "version": "3.10.2"
  }
 },
 "nbformat": 4,
 "nbformat_minor": 5
}
